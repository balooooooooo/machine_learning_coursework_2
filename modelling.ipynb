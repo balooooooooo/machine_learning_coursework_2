{
 "cells": [
  {
   "cell_type": "code",
   "execution_count": 1,
   "metadata": {
    "collapsed": true,
    "ExecuteTime": {
     "start_time": "2023-05-21T11:45:36.161581Z",
     "end_time": "2023-05-21T11:45:37.742026Z"
    }
   },
   "outputs": [
    {
     "name": "stdout",
     "output_type": "stream",
     "text": [
      "Cleverminer version  1.0.6\n"
     ]
    },
    {
     "data": {
      "text/plain": "gender                 0\nage                    0\nheight(cm)             0\nweight(kg)             0\nwaist(cm)              0\neyesight(left)         0\neyesight(right)        0\nhearing(left)          0\nhearing(right)         0\nsystolic               0\nrelaxation             0\nfasting_blood_sugar    0\ncholesterol            0\ntriglyceride           0\nhdl                    0\nldl                    0\nhemoglobin             0\nurine_protein          0\nserum_creatinine       0\nast                    0\nalt                    0\ngtp                    0\ndental_caries          0\ntartar                 0\nsmoking                0\nbmi                    0\nhealthy_weight         0\neyesight_total         0\nvision                 0\nhearing_impairment     0\ndtype: int64"
     },
     "metadata": {},
     "output_type": "display_data"
    },
    {
     "data": {
      "text/plain": "   gender  age  height(cm)  weight(kg)  waist(cm)  eyesight(left)  \\\n0       0   40         155          60       81.3             1.2   \n1       0   40         160          60       81.0             0.8   \n2       1   55         170          60       80.0             0.8   \n3       1   40         165          70       88.0             1.5   \n4       0   40         155          60       86.0             1.0   \n\n   eyesight(right)  hearing(left)  hearing(right)  systolic  ...   alt   gtp  \\\n0              1.0            1.0             1.0     114.0  ...  19.0  27.0   \n1              0.6            1.0             1.0     119.0  ...  19.0  18.0   \n2              0.8            1.0             1.0     138.0  ...  16.0  22.0   \n3              1.5            1.0             1.0     100.0  ...  26.0  18.0   \n4              1.0            1.0             1.0     120.0  ...  14.0  22.0   \n\n   dental_caries  tartar  smoking    bmi  healthy_weight  eyesight_total  \\\n0              0       1        0  24.97             1.0             2.2   \n1              0       1        0  23.44             0.0             1.4   \n2              0       0        1  20.76             0.0             1.6   \n3              0       1        0  25.71             1.0             3.0   \n4              0       0        0  24.97             1.0             2.0   \n\n   vision  hearing_impairment  \n0       1                   0  \n1       1                   0  \n2       1                   0  \n3       0                   0  \n4       1                   0  \n\n[5 rows x 30 columns]",
      "text/html": "<div>\n<style scoped>\n    .dataframe tbody tr th:only-of-type {\n        vertical-align: middle;\n    }\n\n    .dataframe tbody tr th {\n        vertical-align: top;\n    }\n\n    .dataframe thead th {\n        text-align: right;\n    }\n</style>\n<table border=\"1\" class=\"dataframe\">\n  <thead>\n    <tr style=\"text-align: right;\">\n      <th></th>\n      <th>gender</th>\n      <th>age</th>\n      <th>height(cm)</th>\n      <th>weight(kg)</th>\n      <th>waist(cm)</th>\n      <th>eyesight(left)</th>\n      <th>eyesight(right)</th>\n      <th>hearing(left)</th>\n      <th>hearing(right)</th>\n      <th>systolic</th>\n      <th>...</th>\n      <th>alt</th>\n      <th>gtp</th>\n      <th>dental_caries</th>\n      <th>tartar</th>\n      <th>smoking</th>\n      <th>bmi</th>\n      <th>healthy_weight</th>\n      <th>eyesight_total</th>\n      <th>vision</th>\n      <th>hearing_impairment</th>\n    </tr>\n  </thead>\n  <tbody>\n    <tr>\n      <th>0</th>\n      <td>0</td>\n      <td>40</td>\n      <td>155</td>\n      <td>60</td>\n      <td>81.3</td>\n      <td>1.2</td>\n      <td>1.0</td>\n      <td>1.0</td>\n      <td>1.0</td>\n      <td>114.0</td>\n      <td>...</td>\n      <td>19.0</td>\n      <td>27.0</td>\n      <td>0</td>\n      <td>1</td>\n      <td>0</td>\n      <td>24.97</td>\n      <td>1.0</td>\n      <td>2.2</td>\n      <td>1</td>\n      <td>0</td>\n    </tr>\n    <tr>\n      <th>1</th>\n      <td>0</td>\n      <td>40</td>\n      <td>160</td>\n      <td>60</td>\n      <td>81.0</td>\n      <td>0.8</td>\n      <td>0.6</td>\n      <td>1.0</td>\n      <td>1.0</td>\n      <td>119.0</td>\n      <td>...</td>\n      <td>19.0</td>\n      <td>18.0</td>\n      <td>0</td>\n      <td>1</td>\n      <td>0</td>\n      <td>23.44</td>\n      <td>0.0</td>\n      <td>1.4</td>\n      <td>1</td>\n      <td>0</td>\n    </tr>\n    <tr>\n      <th>2</th>\n      <td>1</td>\n      <td>55</td>\n      <td>170</td>\n      <td>60</td>\n      <td>80.0</td>\n      <td>0.8</td>\n      <td>0.8</td>\n      <td>1.0</td>\n      <td>1.0</td>\n      <td>138.0</td>\n      <td>...</td>\n      <td>16.0</td>\n      <td>22.0</td>\n      <td>0</td>\n      <td>0</td>\n      <td>1</td>\n      <td>20.76</td>\n      <td>0.0</td>\n      <td>1.6</td>\n      <td>1</td>\n      <td>0</td>\n    </tr>\n    <tr>\n      <th>3</th>\n      <td>1</td>\n      <td>40</td>\n      <td>165</td>\n      <td>70</td>\n      <td>88.0</td>\n      <td>1.5</td>\n      <td>1.5</td>\n      <td>1.0</td>\n      <td>1.0</td>\n      <td>100.0</td>\n      <td>...</td>\n      <td>26.0</td>\n      <td>18.0</td>\n      <td>0</td>\n      <td>1</td>\n      <td>0</td>\n      <td>25.71</td>\n      <td>1.0</td>\n      <td>3.0</td>\n      <td>0</td>\n      <td>0</td>\n    </tr>\n    <tr>\n      <th>4</th>\n      <td>0</td>\n      <td>40</td>\n      <td>155</td>\n      <td>60</td>\n      <td>86.0</td>\n      <td>1.0</td>\n      <td>1.0</td>\n      <td>1.0</td>\n      <td>1.0</td>\n      <td>120.0</td>\n      <td>...</td>\n      <td>14.0</td>\n      <td>22.0</td>\n      <td>0</td>\n      <td>0</td>\n      <td>0</td>\n      <td>24.97</td>\n      <td>1.0</td>\n      <td>2.0</td>\n      <td>1</td>\n      <td>0</td>\n    </tr>\n  </tbody>\n</table>\n<p>5 rows × 30 columns</p>\n</div>"
     },
     "metadata": {},
     "output_type": "display_data"
    }
   ],
   "source": [
    "import pandas as pd\n",
    "import numpy as np\n",
    "from cleverminer import cleverminer\n",
    "from sklearn.preprocessing import KBinsDiscretizer\n",
    "data = pd.read_csv(\"data.csv\")\n",
    "\n",
    "display(data.isnull().sum())\n",
    "display(data.head())"
   ]
  },
  {
   "cell_type": "markdown",
   "source": [
    "# Discretization of values"
   ],
   "metadata": {
    "collapsed": false
   }
  },
  {
   "cell_type": "code",
   "execution_count": 2,
   "outputs": [],
   "source": [
    "def show_bins(bins):\n",
    "    \"\"\"Shows the ranges of values the bins comprises\"\"\"\n",
    "\n",
    "    for i in range(len(bins)-1):\n",
    "        print(f'Bin {i}: {str(bins[i])} -> {str(bins[i+1])}')\n",
    "    print(\"------------\")"
   ],
   "metadata": {
    "collapsed": false,
    "ExecuteTime": {
     "start_time": "2023-05-21T11:45:40.864787Z",
     "end_time": "2023-05-21T11:45:40.879475Z"
    }
   }
  },
  {
   "cell_type": "code",
   "execution_count": 3,
   "outputs": [],
   "source": [
    "def discretize(column: str):\n",
    "    kbins = KBinsDiscretizer(n_bins=5, strategy=\"kmeans\", encode=\"ordinal\")\n",
    "    data[column] = kbins.fit_transform(np.array(data[column]).reshape(-1,1))\n",
    "    return kbins\n",
    "\n"
   ],
   "metadata": {
    "collapsed": false,
    "ExecuteTime": {
     "start_time": "2023-05-21T11:45:42.860937Z",
     "end_time": "2023-05-21T11:45:42.877917Z"
    }
   }
  },
  {
   "cell_type": "code",
   "execution_count": 4,
   "outputs": [
    {
     "name": "stdout",
     "output_type": "stream",
     "text": [
      "Bin 0: 51.0 -> 73.35517898946664\n",
      "Bin 1: 73.35517898946664 -> 81.5306262494403\n",
      "Bin 2: 81.5306262494403 -> 89.11850049539169\n",
      "Bin 3: 89.11850049539169 -> 98.0337495675102\n",
      "Bin 4: 98.0337495675102 -> 129.0\n",
      "------------\n",
      "Bin 0: 8.0 -> 98.1158529751392\n",
      "Bin 1: 98.1158529751392 -> 164.01416122082935\n",
      "Bin 2: 164.01416122082935 -> 255.14372276503133\n",
      "Bin 3: 255.14372276503133 -> 654.0995828988534\n",
      "Bin 4: 654.0995828988534 -> 999.0\n",
      "------------\n",
      "Bin 0: 4.9 -> 11.1796358362651\n",
      "Bin 1: 11.1796358362651 -> 13.19627551401679\n",
      "Bin 2: 13.19627551401679 -> 14.570595105555157\n",
      "Bin 3: 14.570595105555157 -> 15.923341005633791\n",
      "Bin 4: 15.923341005633791 -> 21.1\n",
      "------------\n",
      "Bin 0: 1.0 -> 43.06023512349059\n",
      "Bin 1: 43.06023512349059 -> 102.12770858809866\n",
      "Bin 2: 102.12770858809866 -> 225.67557557697745\n",
      "Bin 3: 225.67557557697745 -> 490.9169987656497\n",
      "Bin 4: 490.9169987656497 -> 999.0\n",
      "------------\n"
     ]
    }
   ],
   "source": [
    "show_bins(discretize(\"waist(cm)\").bin_edges_[0])\n",
    "show_bins(discretize(\"triglyceride\").bin_edges_[0])\n",
    "show_bins(discretize(\"hemoglobin\").bin_edges_[0])\n",
    "show_bins(discretize(\"gtp\").bin_edges_[0])"
   ],
   "metadata": {
    "collapsed": false,
    "ExecuteTime": {
     "start_time": "2023-05-21T11:45:44.628989Z",
     "end_time": "2023-05-21T11:45:45.323692Z"
    }
   }
  },
  {
   "cell_type": "code",
   "execution_count": 5,
   "outputs": [
    {
     "name": "stdout",
     "output_type": "stream",
     "text": [
      "1    35401\n",
      "0    20291\n",
      "Name: gender, dtype: int64\n",
      "1.0    17090\n",
      "2.0    16904\n",
      "0.0    10112\n",
      "3.0     9174\n",
      "4.0     2412\n",
      "Name: waist(cm), dtype: int64\n",
      "0.0    24326\n",
      "1.0    18263\n",
      "2.0     9266\n",
      "3.0     3836\n",
      "4.0        1\n",
      "Name: triglyceride, dtype: int64\n",
      "3.0    19781\n",
      "2.0    15188\n",
      "4.0    11183\n",
      "1.0     8349\n",
      "0.0     1191\n",
      "Name: hemoglobin, dtype: int64\n",
      "0.0    41770\n",
      "1.0    10612\n",
      "2.0     2669\n",
      "3.0      534\n",
      "4.0      107\n",
      "Name: gtp, dtype: int64\n"
     ]
    }
   ],
   "source": [
    "print(data[\"gender\"].value_counts())\n",
    "print(data[\"waist(cm)\"].value_counts())\n",
    "print(data[\"triglyceride\"].value_counts())\n",
    "print(data[\"hemoglobin\"].value_counts())\n",
    "print(data[\"gtp\"].value_counts())\n"
   ],
   "metadata": {
    "collapsed": false,
    "ExecuteTime": {
     "start_time": "2023-05-21T11:45:47.376414Z",
     "end_time": "2023-05-21T11:45:47.403378Z"
    }
   }
  },
  {
   "cell_type": "code",
   "execution_count": 6,
   "outputs": [
    {
     "name": "stdout",
     "output_type": "stream",
     "text": [
      "Cleverminer version 1.0.6.\n",
      "Warning: Python 3.10+ NOT detected. You should upgrade to Python 3.10 or greater to get better performance\n",
      "Starting data preparation ...\n",
      "Automatically reordering numeric categories ...\n",
      "Automatically reordering numeric categories ...done\n",
      "Encoding columns into bit-form...\n",
      "Encoding columns into bit-form...done\n",
      "Data preparation finished.\n",
      "Will go for  4ftMiner\n",
      "Starting to mine rules.\n",
      "100%|####################################################|Elapsed Time: 0:00:01\n",
      "Done. Total verifications : 400, rules 127, times: prep 2.04sec, processing 1.14sec\n"
     ]
    }
   ],
   "source": [
    "clm = cleverminer(df = data, proc='4ftMiner',\n",
    "                  quantifiers = {'conf':0.7, 'Base':1000},\n",
    "                  ante ={\n",
    "                      'attributes':[\n",
    "                          {'name': 'gender', 'type': 'subset', 'minlen': 1, 'maxlen': 1},\n",
    "                          {'name': 'waist(cm)', 'type': 'subset', 'minlen': 1, 'maxlen': 1},\n",
    "                          {'name': 'hemoglobin', 'type': 'subset', 'minlen': 1, 'maxlen': 1},\n",
    "                          {'name': 'gtp', 'type': 'subset', 'minlen': 1, 'maxlen': 1},\n",
    "                          {'name': 'triglyceride', 'type': 'subset', 'minlen': 1, 'maxlen': 1},\n",
    "                      ], 'minlen':1, 'maxlen':6, 'type':'con'},\n",
    "                  succ ={\n",
    "                      'attributes':[\n",
    "                          {'name': 'smoking', 'type': 'subset', 'minlen': 1, 'maxlen': 1}\n",
    "                      ], 'minlen':1, 'maxlen':1, 'type':'con'})"
   ],
   "metadata": {
    "collapsed": false,
    "ExecuteTime": {
     "start_time": "2023-05-21T11:45:49.645884Z",
     "end_time": "2023-05-21T11:45:52.845872Z"
    }
   }
  },
  {
   "cell_type": "code",
   "execution_count": 12,
   "outputs": [
    {
     "name": "stdout",
     "output_type": "stream",
     "text": [
      "\n",
      "List of rules:\n",
      "RULEID BASE  CONF  AAD    Rule\n",
      "     1 19432 0.958 +0.514 gender(0) => smoking(0) | ---\n",
      "     2  7197 0.959 +0.515 gender(0) & waist(cm)(0) => smoking(0) | ---\n",
      "     3  3120 0.966 +0.526 gender(0) & waist(cm)(0) & hemoglobin(1) => smoking(0) | ---\n",
      "     4  3033 0.968 +0.531 gender(0) & waist(cm)(0) & hemoglobin(1) & gtp(0) => smoking(0) | ---\n",
      "     5  2313 0.973 +0.538 gender(0) & waist(cm)(0) & hemoglobin(1) & gtp(0) & triglyceride(0) => smoking(0) | ---\n",
      "     6  2363 0.972 +0.537 gender(0) & waist(cm)(0) & hemoglobin(1) & triglyceride(0) => smoking(0) | ---\n",
      "     7  3100 0.950 +0.502 gender(0) & waist(cm)(0) & hemoglobin(2) => smoking(0) | ---\n",
      "     8  2960 0.956 +0.511 gender(0) & waist(cm)(0) & hemoglobin(2) & gtp(0) => smoking(0) | ---\n",
      "     9  2149 0.959 +0.515 gender(0) & waist(cm)(0) & hemoglobin(2) & gtp(0) & triglyceride(0) => smoking(0) | ---\n",
      "    10  2218 0.958 +0.514 gender(0) & waist(cm)(0) & hemoglobin(2) & triglyceride(0) => smoking(0) | ---\n",
      "    11  6934 0.963 +0.521 gender(0) & waist(cm)(0) & gtp(0) => smoking(0) | ---\n",
      "    12  5158 0.967 +0.528 gender(0) & waist(cm)(0) & gtp(0) & triglyceride(0) => smoking(0) | ---\n",
      "    13  1458 0.956 +0.511 gender(0) & waist(cm)(0) & gtp(0) & triglyceride(1) => smoking(0) | ---\n",
      "    14  5293 0.967 +0.528 gender(0) & waist(cm)(0) & triglyceride(0) => smoking(0) | ---\n",
      "    15  1540 0.944 +0.492 gender(0) & waist(cm)(0) & triglyceride(1) => smoking(0) | ---\n",
      "    16  6938 0.960 +0.517 gender(0) & waist(cm)(1) => smoking(0) | ---\n",
      "    17  2691 0.969 +0.532 gender(0) & waist(cm)(1) & hemoglobin(1) => smoking(0) | ---\n",
      "    18  2485 0.972 +0.536 gender(0) & waist(cm)(1) & hemoglobin(1) & gtp(0) => smoking(0) | ---\n",
      "    19  1556 0.972 +0.536 gender(0) & waist(cm)(1) & hemoglobin(1) & gtp(0) & triglyceride(0) => smoking(0) | ---\n",
      "    20  1644 0.971 +0.535 gender(0) & waist(cm)(1) & hemoglobin(1) & triglyceride(0) => smoking(0) | ---\n",
      "    21  3358 0.956 +0.510 gender(0) & waist(cm)(1) & hemoglobin(2) => smoking(0) | ---\n",
      "    22  3072 0.962 +0.521 gender(0) & waist(cm)(1) & hemoglobin(2) & gtp(0) => smoking(0) | ---\n",
      "    23  1676 0.957 +0.513 gender(0) & waist(cm)(1) & hemoglobin(2) & gtp(0) & triglyceride(0) => smoking(0) | ---\n",
      "    24  1765 0.955 +0.509 gender(0) & waist(cm)(1) & hemoglobin(2) & triglyceride(0) => smoking(0) | ---\n",
      "    25  1108 0.963 +0.523 gender(0) & waist(cm)(1) & hemoglobin(2) & triglyceride(1) => smoking(0) | ---\n",
      "    26  6363 0.965 +0.526 gender(0) & waist(cm)(1) & gtp(0) => smoking(0) | ---\n",
      "    27  3668 0.966 +0.526 gender(0) & waist(cm)(1) & gtp(0) & triglyceride(0) => smoking(0) | ---\n",
      "    28  1961 0.969 +0.531 gender(0) & waist(cm)(1) & gtp(0) & triglyceride(1) => smoking(0) | ---\n",
      "    29  3874 0.964 +0.524 gender(0) & waist(cm)(1) & triglyceride(0) => smoking(0) | ---\n",
      "    30  2183 0.963 +0.522 gender(0) & waist(cm)(1) & triglyceride(1) => smoking(0) | ---\n",
      "    31  3667 0.955 +0.510 gender(0) & waist(cm)(2) => smoking(0) | ---\n",
      "    32  1219 0.961 +0.518 gender(0) & waist(cm)(2) & hemoglobin(1) => smoking(0) | ---\n",
      "    33  1114 0.965 +0.526 gender(0) & waist(cm)(2) & hemoglobin(1) & gtp(0) => smoking(0) | ---\n",
      "    34  1918 0.956 +0.510 gender(0) & waist(cm)(2) & hemoglobin(2) => smoking(0) | ---\n",
      "    35  1681 0.962 +0.520 gender(0) & waist(cm)(2) & hemoglobin(2) & gtp(0) => smoking(0) | ---\n",
      "    36  3236 0.960 +0.517 gender(0) & waist(cm)(2) & gtp(0) => smoking(0) | ---\n",
      "    37  1491 0.964 +0.524 gender(0) & waist(cm)(2) & gtp(0) & triglyceride(0) => smoking(0) | ---\n",
      "    38  1186 0.963 +0.521 gender(0) & waist(cm)(2) & gtp(0) & triglyceride(1) => smoking(0) | ---\n",
      "    39  1600 0.963 +0.522 gender(0) & waist(cm)(2) & triglyceride(0) => smoking(0) | ---\n",
      "    40  1357 0.960 +0.517 gender(0) & waist(cm)(2) & triglyceride(1) => smoking(0) | ---\n",
      "    41  1368 0.951 +0.503 gender(0) & waist(cm)(3) => smoking(0) | ---\n",
      "    42  1110 0.957 +0.512 gender(0) & waist(cm)(3) & gtp(0) => smoking(0) | ---\n",
      "    43  1085 0.975 +0.541 gender(0) & hemoglobin(0) => smoking(0) | ---\n",
      "    44  1041 0.978 +0.546 gender(0) & hemoglobin(0) & gtp(0) => smoking(0) | ---\n",
      "    45  7525 0.966 +0.527 gender(0) & hemoglobin(1) => smoking(0) | ---\n",
      "    46  7058 0.969 +0.532 gender(0) & hemoglobin(1) & gtp(0) => smoking(0) | ---\n",
      "    47  4610 0.973 +0.537 gender(0) & hemoglobin(1) & gtp(0) & triglyceride(0) => smoking(0) | ---\n",
      "    48  1875 0.966 +0.527 gender(0) & hemoglobin(1) & gtp(0) & triglyceride(1) => smoking(0) | ---\n",
      "    49  4790 0.972 +0.536 gender(0) & hemoglobin(1) & triglyceride(0) => smoking(0) | ---\n",
      "    50  2045 0.962 +0.521 gender(0) & hemoglobin(1) & triglyceride(1) => smoking(0) | ---\n",
      "    51  9192 0.953 +0.507 gender(0) & hemoglobin(2) => smoking(0) | ---\n",
      "    52  8354 0.959 +0.515 gender(0) & hemoglobin(2) & gtp(0) => smoking(0) | ---\n",
      "    53  4806 0.961 +0.519 gender(0) & hemoglobin(2) & gtp(0) & triglyceride(0) => smoking(0) | ---\n",
      "    54  2557 0.964 +0.524 gender(0) & hemoglobin(2) & gtp(0) & triglyceride(1) => smoking(0) | ---\n",
      "    55  5067 0.960 +0.517 gender(0) & hemoglobin(2) & triglyceride(0) => smoking(0) | ---\n",
      "    56  2878 0.956 +0.510 gender(0) & hemoglobin(2) & triglyceride(1) => smoking(0) | ---\n",
      "    57  1579 0.936 +0.479 gender(0) & hemoglobin(3) => smoking(0) | ---\n",
      "    58  1348 0.941 +0.488 gender(0) & hemoglobin(3) & gtp(0) => smoking(0) | ---\n",
      "    59 17840 0.962 +0.521 gender(0) & gtp(0) => smoking(0) | ---\n",
      "    60 10827 0.967 +0.528 gender(0) & gtp(0) & triglyceride(0) => smoking(0) | ---\n",
      "    61  5129 0.963 +0.523 gender(0) & gtp(0) & triglyceride(1) => smoking(0) | ---\n",
      "    62  1492 0.943 +0.490 gender(0) & gtp(0) & triglyceride(2) => smoking(0) | ---\n",
      "    63  1295 0.916 +0.449 gender(0) & gtp(1) => smoking(0) | ---\n",
      "    64 11353 0.966 +0.526 gender(0) & triglyceride(0) => smoking(0) | ---\n",
      "    65  5721 0.957 +0.512 gender(0) & triglyceride(1) => smoking(0) | ---\n",
      "    66  1819 0.932 +0.474 gender(0) & triglyceride(2) => smoking(0) | ---\n",
      "    67  1219 0.702 +0.911 gender(1) & waist(cm)(1) & gtp(1) => smoking(1) | ---\n",
      "    68  1018 0.746 +1.031 gender(1) & hemoglobin(4) & triglyceride(3) => smoking(1) | ---\n",
      "    69  1049 0.746 +1.030 gender(1) & gtp(1) & triglyceride(3) => smoking(1) | ---\n",
      "    70  1729 0.726 +0.976 gender(1) & gtp(2) => smoking(1) | ---\n",
      "    71  2305 0.713 +0.941 gender(1) & triglyceride(3) => smoking(1) | ---\n",
      "    72  8305 0.821 +0.298 waist(cm)(0) => smoking(0) | ---\n",
      "    73  3152 0.953 +0.506 waist(cm)(0) & hemoglobin(1) => smoking(0) | ---\n",
      "    74  3063 0.956 +0.511 waist(cm)(0) & hemoglobin(1) & gtp(0) => smoking(0) | ---\n",
      "    75  2340 0.961 +0.519 waist(cm)(0) & hemoglobin(1) & gtp(0) & triglyceride(0) => smoking(0) | ---\n",
      "    76  2390 0.960 +0.517 waist(cm)(0) & hemoglobin(1) & triglyceride(0) => smoking(0) | ---\n",
      "    77  3347 0.867 +0.371 waist(cm)(0) & hemoglobin(2) => smoking(0) | ---\n",
      "    78  3189 0.884 +0.397 waist(cm)(0) & hemoglobin(2) & gtp(0) => smoking(0) | ---\n",
      "    79  2329 0.890 +0.407 waist(cm)(0) & hemoglobin(2) & gtp(0) & triglyceride(0) => smoking(0) | ---\n",
      "    80  2411 0.883 +0.395 waist(cm)(0) & hemoglobin(2) & triglyceride(0) => smoking(0) | ---\n",
      "    81  7960 0.844 +0.334 waist(cm)(0) & gtp(0) => smoking(0) | ---\n",
      "    82  5929 0.861 +0.361 waist(cm)(0) & gtp(0) & triglyceride(0) => smoking(0) | ---\n",
      "    83  1681 0.813 +0.285 waist(cm)(0) & gtp(0) & triglyceride(1) => smoking(0) | ---\n",
      "    84  6100 0.850 +0.344 waist(cm)(0) & triglyceride(0) => smoking(0) | ---\n",
      "    85  1789 0.776 +0.227 waist(cm)(0) & triglyceride(1) => smoking(0) | ---\n",
      "    86  2782 0.938 +0.483 waist(cm)(1) & hemoglobin(1) => smoking(0) | ---\n",
      "    87  2568 0.948 +0.498 waist(cm)(1) & hemoglobin(1) & gtp(0) => smoking(0) | ---\n",
      "    88  1612 0.950 +0.502 waist(cm)(1) & hemoglobin(1) & gtp(0) & triglyceride(0) => smoking(0) | ---\n",
      "    89  1704 0.946 +0.495 waist(cm)(1) & hemoglobin(1) & triglyceride(0) => smoking(0) | ---\n",
      "    90  4220 0.793 +0.254 waist(cm)(1) & hemoglobin(2) => smoking(0) | ---\n",
      "    91  3829 0.824 +0.302 waist(cm)(1) & hemoglobin(2) & gtp(0) => smoking(0) | ---\n",
      "    92  2177 0.828 +0.309 waist(cm)(1) & hemoglobin(2) & gtp(0) & triglyceride(0) => smoking(0) | ---\n",
      "    93  1170 0.815 +0.289 waist(cm)(1) & hemoglobin(2) & gtp(0) & triglyceride(1) => smoking(0) | ---\n",
      "    94  2316 0.816 +0.290 waist(cm)(1) & hemoglobin(2) & triglyceride(0) => smoking(0) | ---\n",
      "    95  1327 0.786 +0.242 waist(cm)(1) & hemoglobin(2) & triglyceride(1) => smoking(0) | ---\n",
      "    96 10191 0.718 +0.135 waist(cm)(1) & gtp(0) => smoking(0) | ---\n",
      "    97  5960 0.758 +0.198 waist(cm)(1) & gtp(0) & triglyceride(0) => smoking(0) | ---\n",
      "    98  6388 0.737 +0.165 waist(cm)(1) & triglyceride(0) => smoking(0) | ---\n",
      "    99  1324 0.910 +0.438 waist(cm)(2) & hemoglobin(1) => smoking(0) | ---\n",
      "   100  1198 0.927 +0.464 waist(cm)(2) & hemoglobin(1) & gtp(0) => smoking(0) | ---\n",
      "   101  2958 0.737 +0.164 waist(cm)(2) & hemoglobin(2) => smoking(0) | ---\n",
      "   102  2508 0.780 +0.233 waist(cm)(2) & hemoglobin(2) & gtp(0) => smoking(0) | ---\n",
      "   103  1162 0.814 +0.287 waist(cm)(2) & hemoglobin(2) & gtp(0) & triglyceride(0) => smoking(0) | ---\n",
      "   104  1289 0.791 +0.251 waist(cm)(2) & hemoglobin(2) & triglyceride(0) => smoking(0) | ---\n",
      "   105  1115 0.733 +0.159 waist(cm)(2) & hemoglobin(2) & triglyceride(1) => smoking(0) | ---\n",
      "   106  3565 0.716 +0.132 waist(cm)(2) & gtp(0) & triglyceride(0) => smoking(0) | ---\n",
      "   107  1146 0.702 +0.110 waist(cm)(3) & hemoglobin(2) => smoking(0) | ---\n",
      "   108  1159 0.702 +0.109 waist(cm)(3) & gtp(0) & triglyceride(0) => smoking(0) | ---\n",
      "   109  1124 0.944 +0.492 hemoglobin(0) => smoking(0) | ---\n",
      "   110  1072 0.958 +0.514 hemoglobin(0) & gtp(0) => smoking(0) | ---\n",
      "   111  7811 0.936 +0.479 hemoglobin(1) => smoking(0) | ---\n",
      "   112  7295 0.945 +0.494 hemoglobin(1) & gtp(0) => smoking(0) | ---\n",
      "   113  4756 0.954 +0.508 hemoglobin(1) & gtp(0) & triglyceride(0) => smoking(0) | ---\n",
      "   114  1947 0.931 +0.471 hemoglobin(1) & gtp(0) & triglyceride(1) => smoking(0) | ---\n",
      "   115  4950 0.951 +0.503 hemoglobin(1) & triglyceride(0) => smoking(0) | ---\n",
      "   116  2133 0.921 +0.456 hemoglobin(1) & triglyceride(1) => smoking(0) | ---\n",
      "   117 11923 0.785 +0.241 hemoglobin(2) => smoking(0) | ---\n",
      "   118 10559 0.822 +0.299 hemoglobin(2) & gtp(0) => smoking(0) | ---\n",
      "   119  6040 0.846 +0.337 hemoglobin(2) & gtp(0) & triglyceride(0) => smoking(0) | ---\n",
      "   120  3246 0.810 +0.281 hemoglobin(2) & gtp(0) & triglyceride(1) => smoking(0) | ---\n",
      "   121  1001 0.754 +0.192 hemoglobin(2) & gtp(0) & triglyceride(2) => smoking(0) | ---\n",
      "   122  6469 0.832 +0.315 hemoglobin(2) & triglyceride(0) => smoking(0) | ---\n",
      "   123  3763 0.772 +0.220 hemoglobin(2) & triglyceride(1) => smoking(0) | ---\n",
      "   124  1018 0.745 +1.028 hemoglobin(4) & triglyceride(3) => smoking(1) | ---\n",
      "   125 29719 0.711 +0.125 gtp(0) => smoking(0) | ---\n",
      "   126 16796 0.776 +0.226 gtp(0) & triglyceride(0) => smoking(0) | ---\n",
      "   127 18201 0.748 +0.183 triglyceride(0) => smoking(0) | ---\n",
      "\n"
     ]
    }
   ],
   "source": [
    "clm.print_rulelist()"
   ],
   "metadata": {
    "collapsed": false,
    "ExecuteTime": {
     "start_time": "2023-05-21T11:54:41.313278Z",
     "end_time": "2023-05-21T11:54:41.329189Z"
    }
   }
  },
  {
   "cell_type": "code",
   "execution_count": 22,
   "outputs": [
    {
     "name": "stdout",
     "output_type": "stream",
     "text": [
      "\n",
      "\n",
      "Rule id : 68\n",
      "\n",
      "Base :  1018  Relative base : 0.018  CONF : 0.746  AAD : +1.031  BAD : -1.031\n",
      "\n",
      "Cedents:\n",
      "  antecedent : gender(1) & hemoglobin(4) & triglyceride(3)\n",
      "  succcedent : smoking(1)\n",
      "  condition  : ---\n",
      "\n",
      "Fourfold table\n",
      "    |  S  |  ¬S |\n",
      "----|-----|-----|\n",
      " A  | 1018|  347|\n",
      "----|-----|-----|\n",
      "¬A  |19437|34890|\n",
      "----|-----|-----|\n",
      "\n",
      "\n",
      "\n",
      "Rule id : 124\n",
      "\n",
      "Base :  1018  Relative base : 0.018  CONF : 0.745  AAD : +1.028  BAD : -1.028\n",
      "\n",
      "Cedents:\n",
      "  antecedent : hemoglobin(4) & triglyceride(3)\n",
      "  succcedent : smoking(1)\n",
      "  condition  : ---\n",
      "\n",
      "Fourfold table\n",
      "    |  S  |  ¬S |\n",
      "----|-----|-----|\n",
      " A  | 1018|  349|\n",
      "----|-----|-----|\n",
      "¬A  |19437|34888|\n",
      "----|-----|-----|\n",
      "\n"
     ]
    }
   ],
   "source": [
    "clm.print_rule(68)\n",
    "clm.print_rule(124)"
   ],
   "metadata": {
    "collapsed": false,
    "ExecuteTime": {
     "start_time": "2023-05-21T12:35:28.311789Z",
     "end_time": "2023-05-21T12:35:28.335076Z"
    }
   }
  }
 ],
 "metadata": {
  "kernelspec": {
   "display_name": "Python 3",
   "language": "python",
   "name": "python3"
  },
  "language_info": {
   "codemirror_mode": {
    "name": "ipython",
    "version": 2
   },
   "file_extension": ".py",
   "mimetype": "text/x-python",
   "name": "python",
   "nbconvert_exporter": "python",
   "pygments_lexer": "ipython2",
   "version": "2.7.6"
  }
 },
 "nbformat": 4,
 "nbformat_minor": 0
}
